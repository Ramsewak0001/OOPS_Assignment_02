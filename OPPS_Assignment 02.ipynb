{
 "cells": [
  {
   "cell_type": "code",
   "execution_count": null,
   "id": "ccb9d572-1331-4abb-a929-b55cec2676f3",
   "metadata": {},
   "outputs": [],
   "source": [
    "Q1. What is Abstraction in OOps? Explain with an example."
   ]
  },
  {
   "cell_type": "code",
   "execution_count": null,
   "id": "489dedd9-4ea2-4c6f-b438-9787c8274b34",
   "metadata": {},
   "outputs": [],
   "source": [
    "Abstraction is one of the fundamental concepts of object-oriented programming (OOP) that allows us to hide the complexity of a system \n",
    "and show only the essential features of the object. It is a process of hiding the implementation details and showing only functionality to the user.\n",
    "It allow us to use the same function in different classes"
   ]
  },
  {
   "cell_type": "code",
   "execution_count": 2,
   "id": "30ddd3d2-8b32-4942-8e03-3459e3df5f07",
   "metadata": {},
   "outputs": [],
   "source": [
    "import abc\n",
    "class python:\n",
    "    \n",
    "    @abc.abstractmethod\n",
    "    def students_detials(self):\n",
    "        pass\n",
    "    \n",
    "    @abc.abstractmethod\n",
    "    def student_assignemnt(self):\n",
    "        pass\n",
    "    \n",
    "    @abc.abstractmethod\n",
    "    def student_marks(self):\n",
    "        pass"
   ]
  },
  {
   "cell_type": "code",
   "execution_count": 3,
   "id": "8ab7f873-809c-4f7d-8851-9676e575df1f",
   "metadata": {},
   "outputs": [],
   "source": [
    "class student_detils(python):\n",
    "    \n",
    "    def students_detials(self):\n",
    "        return \"this is a meth for taking students details\"\n",
    "    \n",
    "    def student_assignemnt(self):\n",
    "        return \"this is a meth for assing details for a perticualt student\""
   ]
  },
  {
   "cell_type": "code",
   "execution_count": 4,
   "id": "476a1b29-4edf-4d32-b755-7f99ce81fcc8",
   "metadata": {},
   "outputs": [],
   "source": [
    "class data_science_maters(python):\n",
    "    \n",
    "    def students_detials(self):\n",
    "        return \"this will return a student details for data science masters \"\n",
    "    \n",
    "    def student_assignemnt(self):\n",
    "        return \"this will give you a studnt assignment detaild for data science masters \""
   ]
  },
  {
   "cell_type": "code",
   "execution_count": 5,
   "id": "a40bc9b5-63ab-4f2b-8605-092010c8e989",
   "metadata": {},
   "outputs": [
    {
     "data": {
      "text/plain": [
       "'this will return a student details for data science masters '"
      ]
     },
     "execution_count": 5,
     "metadata": {},
     "output_type": "execute_result"
    }
   ],
   "source": [
    "dsm = data_science_maters()\n",
    "dsm.students_detials()"
   ]
  },
  {
   "cell_type": "code",
   "execution_count": 6,
   "id": "05dffc9a-cbcd-4fb6-a0a4-528be893304d",
   "metadata": {},
   "outputs": [
    {
     "data": {
      "text/plain": [
       "'this is a meth for taking students details'"
      ]
     },
     "execution_count": 6,
     "metadata": {},
     "output_type": "execute_result"
    }
   ],
   "source": [
    "sd= student_detils()\n",
    "sd.students_detials()"
   ]
  },
  {
   "cell_type": "code",
   "execution_count": null,
   "id": "d337f591-117e-4f3a-9ecc-ac89a035f56b",
   "metadata": {},
   "outputs": [],
   "source": [
    "Q2. Differentiate between Abstraction and Encapsulation. Explain with an example."
   ]
  },
  {
   "cell_type": "code",
   "execution_count": null,
   "id": "8a4851e4-11ef-4bb1-8bf3-ee0d1d78381b",
   "metadata": {},
   "outputs": [],
   "source": [
    "Abstraction and Encapsulation are two important concepts in Object-Oriented Programming (OOP).\n",
    "Abstraction : \n",
    "              The process of hiding the implementation details and showing only the functionality to the user.\n",
    "              It is used to manage complexity by hiding unnecessary details from the user.\n",
    "              for example :\n",
    "              A car is an example of abstraction because it hides the internal details of how it works from the user. \n",
    "              The user only needs to know how to drive it, not how it works internally.\n",
    "            \n",
    "Encapsulation : \n",
    "              The process of wrapping data and methods into a single unit or object.\n",
    "              It is used to protect data from unauthorized access by making it private and providing access through public methods.\n",
    "              for example :\n",
    "                           The banc account only show the nessery details like available balence , withdraw and deposit ammount \n",
    "                           some of the variable is private or encaptulated i.e. The data is made private so that it cannot be accessed directly \n",
    "                           from outside the class\n",
    "              for exmaple :   "
   ]
  },
  {
   "cell_type": "code",
   "execution_count": 15,
   "id": "44d80e2b-776b-4d2a-b8eb-c228bb4951fc",
   "metadata": {},
   "outputs": [],
   "source": [
    "class bank_account :\n",
    "    def __init__(self ,balance):\n",
    "        self.__balance=balance\n",
    "    def deposit(self,amount):\n",
    "        self.__balance= self.__balance + amount\n",
    "    def withdraw(self,amount):\n",
    "        if self.__balance >=amount:\n",
    "            self.__balance = self.__balance - amount\n",
    "            return True\n",
    "        else :\n",
    "            return False\n",
    "    def get_balance(self):\n",
    "        return self.__balance"
   ]
  },
  {
   "cell_type": "code",
   "execution_count": 16,
   "id": "e9fcc5d6-980a-421d-80c0-4b2f30417dd2",
   "metadata": {},
   "outputs": [],
   "source": [
    "Ram = bank_account(2000)"
   ]
  },
  {
   "cell_type": "code",
   "execution_count": 17,
   "id": "4216567c-e847-4d07-ab53-eb85525e820c",
   "metadata": {},
   "outputs": [],
   "source": [
    "Ram.deposit(500)"
   ]
  },
  {
   "cell_type": "code",
   "execution_count": 18,
   "id": "93145bd8-ade1-4041-aba3-81731c4f0d77",
   "metadata": {},
   "outputs": [
    {
     "data": {
      "text/plain": [
       "2500"
      ]
     },
     "execution_count": 18,
     "metadata": {},
     "output_type": "execute_result"
    }
   ],
   "source": [
    "Ram.get_balance()"
   ]
  },
  {
   "cell_type": "code",
   "execution_count": 19,
   "id": "1fe3a5b0-9582-4169-b6f4-9bae5e901478",
   "metadata": {},
   "outputs": [
    {
     "data": {
      "text/plain": [
       "True"
      ]
     },
     "execution_count": 19,
     "metadata": {},
     "output_type": "execute_result"
    }
   ],
   "source": [
    "Ram.withdraw(2499)"
   ]
  },
  {
   "cell_type": "code",
   "execution_count": 20,
   "id": "977db6c6-5082-4d73-86bd-a6dca9b1f09f",
   "metadata": {},
   "outputs": [
    {
     "data": {
      "text/plain": [
       "1"
      ]
     },
     "execution_count": 20,
     "metadata": {},
     "output_type": "execute_result"
    }
   ],
   "source": [
    "Ram.get_balance()"
   ]
  },
  {
   "cell_type": "code",
   "execution_count": null,
   "id": "1a5899ec-2d2c-438e-9020-333a3bdbf4d2",
   "metadata": {},
   "outputs": [],
   "source": [
    "Q3. What is abc module in python? Why is it used?"
   ]
  },
  {
   "cell_type": "code",
   "execution_count": null,
   "id": "e0ffa4ae-9e3c-425d-9cc2-cbf94d3e61c1",
   "metadata": {},
   "outputs": [],
   "source": [
    "abc stands for \"Abstract Base Classes\"\n",
    "The 'abc' module in Python library provides the infrastructure for defining custom abstract base classes.\n",
    "It works by marking methods of the base class as abstract using the @absttractmethod decorator. \n",
    "A concrete class which is a sub class of such abstract base class then implements the abstract base by overriding its abstract methods.\n",
    "The main goal of the abstract base class is to provide a standardized way to test whether an object adheres to a given specification.\n"
   ]
  },
  {
   "cell_type": "code",
   "execution_count": null,
   "id": "a7721b9f-0a40-4547-ac5f-7b2c20edd3dc",
   "metadata": {},
   "outputs": [],
   "source": [
    "Q4. How can we achieve data abstraction?"
   ]
  },
  {
   "cell_type": "code",
   "execution_count": null,
   "id": "ebff330e-e4ef-4e7a-b7dc-c29fea12491c",
   "metadata": {},
   "outputs": [],
   "source": [
    "Data Abstraction in Python is the process of hiding the real implementation of an application from the user and emphasizing only on usage of it.\n",
    "Basically, Abstraction focuses on hiding the internal implementations of a process or method from the user.\n",
    "\n",
    "import abc\n",
    "class python:\n",
    "    \n",
    "    @abc.abstractmethod\n",
    "    def students_detials(self):\n",
    "        pass\n",
    "    \n",
    "    @abc.abstractmethod\n",
    "    def student_assignemnt(self):\n",
    "        pass\n",
    "    \n",
    "    @abc.abstractmethod\n",
    "    def student_marks(self):\n",
    "        pass"
   ]
  },
  {
   "cell_type": "code",
   "execution_count": null,
   "id": "2d558db7-86e7-4237-bd80-7b17f3508924",
   "metadata": {},
   "outputs": [],
   "source": [
    "Q5. Can we create an instance of an abstract class? Explain your answer."
   ]
  },
  {
   "cell_type": "code",
   "execution_count": null,
   "id": "088a1eae-6c7c-4026-a362-23ef0a4e4808",
   "metadata": {},
   "outputs": [],
   "source": [
    "We cannot create an instance of an abstract class directly. However, Python does provide a module that allows us to define abstract classes.\n",
    "The module we can use to create an abstract class in Python is abc(abstract base class) module\n",
    "We can create an abstract class by extending ABC which stands for “Abstract Base Classes” and can create the abstract method\n",
    "with @abstractmethod in the abstract class as shown below:\n",
    "\n",
    "from abc import ABC, abstractmethod\n",
    "\n",
    "class python(ABC):\n",
    "    @abstractmethod\n",
    "    def detail(self):\n",
    "        pass"
   ]
  }
 ],
 "metadata": {
  "kernelspec": {
   "display_name": "Python 3 (ipykernel)",
   "language": "python",
   "name": "python3"
  },
  "language_info": {
   "codemirror_mode": {
    "name": "ipython",
    "version": 3
   },
   "file_extension": ".py",
   "mimetype": "text/x-python",
   "name": "python",
   "nbconvert_exporter": "python",
   "pygments_lexer": "ipython3",
   "version": "3.10.8"
  }
 },
 "nbformat": 4,
 "nbformat_minor": 5
}
